{
  "nbformat": 4,
  "nbformat_minor": 0,
  "metadata": {
    "colab": {
      "provenance": [],
      "include_colab_link": true
    },
    "kernelspec": {
      "name": "python3",
      "display_name": "Python 3"
    },
    "language_info": {
      "name": "python"
    }
  },
  "cells": [
    {
      "cell_type": "markdown",
      "metadata": {
        "id": "view-in-github",
        "colab_type": "text"
      },
      "source": [
        "<a href=\"https://colab.research.google.com/github/alpharomeo7/TLA-TCP/blob/master/TCP_simulation.ipynb\" target=\"_parent\"><img src=\"https://colab.research.google.com/assets/colab-badge.svg\" alt=\"Open In Colab\"/></a>"
      ]
    },
    {
      "cell_type": "code",
      "source": [
        "#!pip install z3-solver"
      ],
      "metadata": {
        "colab": {
          "base_uri": "https://localhost:8080/"
        },
        "id": "gvKk2PdLm4PD",
        "outputId": "10ec0084-8559-4c8e-ce44-92ee6690d9bf"
      },
      "execution_count": 1,
      "outputs": [
        {
          "output_type": "stream",
          "name": "stdout",
          "text": [
            "Requirement already satisfied: z3-solver in /usr/local/lib/python3.10/dist-packages (4.12.4.0)\n"
          ]
        }
      ]
    },
    {
      "cell_type": "code",
      "execution_count": 2,
      "metadata": {
        "id": "QXJg5GMcQQo5"
      },
      "outputs": [],
      "source": [
        "import random as r\n",
        "import random\n",
        "import string\n",
        "\n",
        "def generate_random_string(length):\n",
        "  \"\"\"Generates a random string of the specified length.\"\"\"\n",
        "  letters = string.ascii_lowercase + string.ascii_uppercase\n",
        "  return ''.join(random.choice(letters) for i in range(length))\n",
        "\n",
        "\n",
        "class TCPPacket:\n",
        "  def __init__(self, sender, payload, sq_num, ack, flags):\n",
        "    self.sender = sender\n",
        "    self.payload = payload\n",
        "    self.sq_num = sq_num\n",
        "    self.ack = ack\n",
        "    self.flags = flags\n",
        "    self.dropped = False\n",
        "\n",
        "class Server:\n",
        "  def __init__(self, name):\n",
        "    self.name = name\n",
        "    self.sq_num = 0\n",
        "    self.ack = 0\n",
        "    self.sent = []\n",
        "    self.recv = None\n",
        "    self.other = None\n",
        "    self.started = False\n",
        "    self.finished = False\n",
        "    self.closed = False\n",
        "    self.connected = False\n",
        "    self.bytes_sent = 0\n",
        "    self.bytes_recv= 0\n",
        "    self.init_sqnum = r.randint(500,2000)\n",
        "    self.init_ack = 0\n",
        "    self.recv_payload = \"\"\n",
        "    self.payload = generate_random_string(r.randint(200,200))\n",
        "\n",
        "\n",
        "  def send_packet(self, msg_q):\n",
        "    packet = self.make_packet()\n",
        "    if packet is None:\n",
        "      return\n",
        "    self.sent += [packet]\n",
        "    if \"SYN\" not in packet.flags and r.random() < 0.1:\n",
        "      packet.dropped = True\n",
        "    else:\n",
        "      self.other.recv = packet\n",
        "    msg_q += [packet]\n",
        "\n",
        "  def recv_packet(self):\n",
        "    if self.recv is not None:\n",
        "      if self.finished and \"FIN\" in self.recv.flags:\n",
        "        self.closed = True\n",
        "        return\n",
        "      if \"SYN\" in self.recv.flags:\n",
        "\n",
        "        self.ack = self.recv.sq_num + 1\n",
        "        if \"ACK\" in self.recv.flags:\n",
        "          self.connected = self.started\n",
        "          self.sq_num = self.recv.ack\n",
        "        self.recv = None\n",
        "        return\n",
        "      elif self.finished == True and self.ack == self.recv.sq_num:\n",
        "        self.recv_payload += self.recv.payload\n",
        "        self.ack += len(self.recv.payload)\n",
        "        self.recv = None\n",
        "        return\n",
        "      elif self.recv.ack > self.sq_num:\n",
        "        self.connected = self.started\n",
        "        self.sq_num = self.recv.ack\n",
        "        self.recv_payload += self.recv.payload\n",
        "        self.ack += len(self.recv.payload)\n",
        "        self.bytes_recv += len(self.recv.payload)\n",
        "        self.other.bytes_sent += len(self.recv.payload)\n",
        "        self.recv = None\n",
        "        return\n",
        "\n",
        "\n",
        "\n",
        "  def make_packet(self):\n",
        "    if self.closed:\n",
        "      return None\n",
        "    flags = []\n",
        "    packet = None\n",
        "    nbytes = r.randint(10,50)\n",
        "    if self.connected == False:\n",
        "      self.started = True\n",
        "      flags.append(\"SYN\")\n",
        "      if self.ack > 0:\n",
        "        flags.append(\"ACK\")\n",
        "      self.sq_num = self.init_sqnum\n",
        "      packet =  TCPPacket(self.name, \"\",\n",
        "                       self.sq_num, self.ack, flags)\n",
        "\n",
        "    elif self.sq_num == self.init_sqnum + len(self.payload)  + 1:\n",
        "      self.finished = True\n",
        "      flags.append(\"FIN\")\n",
        "      flags.append(\"ACK\")\n",
        "      packet =  TCPPacket(self.name, \"\",\n",
        "                       self.sq_num, self.ack, flags)\n",
        "    else:\n",
        "      packet = TCPPacket(self.name, self.payload[(self.sq_num - self.init_sqnum -1 ):(self.sq_num - self.init_sqnum -1) + nbytes],\n",
        "                       self.sq_num, self.ack, [\"ACK\"])\n",
        "    return packet\n",
        "\n",
        "\n",
        "\n",
        "\n"
      ]
    },
    {
      "cell_type": "code",
      "source": [
        "from z3 import *\n",
        "def get_solver():\n",
        "\n",
        "  vars = dict()\n",
        "  vars['S1SQN'] = Int('S1SQN')\n",
        "  vars['S1ACK'] = Int('S1ACK')\n",
        "  vars['S2SQN'] = Int('S2SQN')\n",
        "  vars['S2ACK'] = Int('S2ACK')\n",
        "  vars['S1SENT'] = Int('S1SENT')\n",
        "  vars['S2SENT'] = Int('S2SENT')\n",
        "  vars['S1RECV'] = Int('S1RECV')\n",
        "  vars['S2RECV'] = Int('S2RECV')\n",
        "\n",
        "  s = Solver()\n",
        "\n",
        "  inv = []\n",
        "  inv.append(Not(vars['S1SQN'] <= vars['S2ACK']))\n",
        "  inv.append(Not(vars['S2SQN'] <= vars['S1ACK']))\n",
        "  inv.append(Not(vars['S1SENT'] == vars['S2RECV']))\n",
        "  inv.append(Not(vars['S2SENT'] == vars['S1RECV']))\n",
        "  s.add(Or(inv))\n",
        "\n",
        "  return s,vars"
      ],
      "metadata": {
        "id": "ievmLvPQm-OH"
      },
      "execution_count": 3,
      "outputs": []
    },
    {
      "cell_type": "code",
      "source": [
        "msg_q = []\n",
        "s1 = Server(\"s1\")\n",
        "s2 = Server(\"s2\")\n",
        "s1.other = s2\n",
        "s2.other = s1\n",
        "for i in range(2000):\n",
        "  x = r.random()\n",
        "  if x < 0.5:\n",
        "    s1.send_packet(msg_q)\n",
        "    s2.recv_packet()\n",
        "  else:\n",
        "    s2.send_packet(msg_q)\n",
        "    s1.recv_packet()\n",
        "\n",
        "  s,vars = get_solver()\n",
        "  s.add(vars['S1SQN'] == s1.sq_num)\n",
        "  s.add(vars['S2SQN'] == s2.sq_num)\n",
        "  s.add(vars['S1ACK'] == s1.ack)\n",
        "  s.add(vars['S2ACK'] == s2.ack)\n",
        "  s.add(vars['S1SENT'] == s1.bytes_sent)\n",
        "  s.add(vars['S2SENT'] == s2.bytes_sent)\n",
        "  s.add(vars['S1RECV'] == s1.bytes_recv)\n",
        "  s.add(vars['S2RECV'] == s2.bytes_recv)\n",
        "\n",
        "  if s.check() != unsat:\n",
        "    print(\"TCP is wrong?\")\n",
        "\n",
        "  if s1.finished and s2.finished:\n",
        "    break #both servers are done\n"
      ],
      "metadata": {
        "id": "4Fvk4jYcVVmQ"
      },
      "execution_count": 4,
      "outputs": []
    },
    {
      "cell_type": "code",
      "source": [
        "#both servers have finished sending\n",
        "s1.finished and s2.finished"
      ],
      "metadata": {
        "id": "5inCJ04Uqor0",
        "colab": {
          "base_uri": "https://localhost:8080/"
        },
        "outputId": "dcfc9dfc-8cf8-4280-e7ca-693ba854b017"
      },
      "execution_count": 11,
      "outputs": [
        {
          "output_type": "execute_result",
          "data": {
            "text/plain": [
              "True"
            ]
          },
          "metadata": {},
          "execution_count": 11
        }
      ]
    },
    {
      "cell_type": "code",
      "source": [
        "#check if sent payload is the same as recv payload on the other server\n",
        "s1.payload == s2.recv_payload and s2.payload == s1.recv_payload"
      ],
      "metadata": {
        "colab": {
          "base_uri": "https://localhost:8080/"
        },
        "id": "pPxciDIBqBcA",
        "outputId": "c1143272-5d76-4398-9447-87d0b00f9968"
      },
      "execution_count": 6,
      "outputs": [
        {
          "output_type": "execute_result",
          "data": {
            "text/plain": [
              "True"
            ]
          },
          "metadata": {},
          "execution_count": 6
        }
      ]
    }
  ]
}