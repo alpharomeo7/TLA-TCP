{
  "nbformat": 4,
  "nbformat_minor": 0,
  "metadata": {
    "colab": {
      "provenance": [],
      "authorship_tag": "ABX9TyMX9DUwlM0hSHIGxGz3Af2D",
      "include_colab_link": true
    },
    "kernelspec": {
      "name": "python3",
      "display_name": "Python 3"
    },
    "language_info": {
      "name": "python"
    }
  },
  "cells": [
    {
      "cell_type": "markdown",
      "metadata": {
        "id": "view-in-github",
        "colab_type": "text"
      },
      "source": [
        "<a href=\"https://colab.research.google.com/github/alpharomeo7/TLA-TCP/blob/master/TCP_simulation.ipynb\" target=\"_parent\"><img src=\"https://colab.research.google.com/assets/colab-badge.svg\" alt=\"Open In Colab\"/></a>"
      ]
    },
    {
      "cell_type": "code",
      "execution_count": 210,
      "metadata": {
        "id": "QXJg5GMcQQo5"
      },
      "outputs": [],
      "source": [
        "import random as r\n",
        "import random\n",
        "import string\n",
        "\n",
        "def generate_random_string(length):\n",
        "  \"\"\"Generates a random string of the specified length.\"\"\"\n",
        "  letters = string.ascii_lowercase + string.ascii_uppercase\n",
        "  return ''.join(random.choice(letters) for i in range(length))\n",
        "\n",
        "\n",
        "class TCPPacket:\n",
        "  def __init__(self, sender, payload, sq_num, ack, flags):\n",
        "    self.sender = sender\n",
        "    self.payload = payload\n",
        "    self.sq_num = sq_num\n",
        "    self.ack = ack\n",
        "    self.flags = flags\n",
        "    self.dropped = False\n",
        "\n",
        "class Server:\n",
        "  def __init__(self, name):\n",
        "    self.name = name\n",
        "    self.sq_num = 0\n",
        "    self.ack = 0\n",
        "    self.sent = []\n",
        "    self.recv = None\n",
        "    self.other = None\n",
        "    self.started = False\n",
        "    self.finished = False\n",
        "    self.closed = False\n",
        "    self.connected = False\n",
        "    self.bytes_sent = 0\n",
        "    self.bytes_recv= 0\n",
        "    self.init_sqnum = r.randint(500,2000)\n",
        "    self.init_ack = 0\n",
        "    self.recv_payload = \"\"\n",
        "    self.payload = generate_random_string(r.randint(200,200))\n",
        "\n",
        "\n",
        "  def send_packet(self, msg_q):\n",
        "    packet = self.make_packet()\n",
        "    if packet is None:\n",
        "      return\n",
        "    self.sent += [packet]\n",
        "    if \"SYN\" not in packet.flags and r.random() < 0.1:\n",
        "      packet.dropped = True\n",
        "    else:\n",
        "      self.other.recv = packet\n",
        "    msg_q += [packet]\n",
        "\n",
        "  def recv_packet(self):\n",
        "    if self.recv is not None:\n",
        "      if self.finished and \"FIN\" in self.recv.flags:\n",
        "        self.closed = True\n",
        "        return\n",
        "      if \"SYN\" in self.recv.flags:\n",
        "\n",
        "        self.ack = self.recv.sq_num + 1\n",
        "        if \"ACK\" in self.recv.flags:\n",
        "          self.connected = self.started\n",
        "          self.sq_num = self.recv.ack\n",
        "        self.recv = None\n",
        "        return\n",
        "      elif self.finished == True and self.ack == self.recv.sq_num:\n",
        "        self.recv_payload += self.recv.payload\n",
        "        self.ack += len(self.recv.payload)\n",
        "        self.recv = None\n",
        "        return\n",
        "      elif self.recv.ack > self.sq_num:\n",
        "        self.connected = self.started\n",
        "        self.sq_num = self.recv.ack\n",
        "        self.recv_payload += self.recv.payload\n",
        "        self.ack += len(self.recv.payload)\n",
        "        self.bytes_recv += len(self.recv.payload)\n",
        "        self.other.bytes_sent += len(self.recv.payload)\n",
        "        self.recv = None\n",
        "        return\n",
        "\n",
        "\n",
        "\n",
        "  def make_packet(self):\n",
        "    if self.closed:\n",
        "      return None\n",
        "    flags = []\n",
        "    packet = None\n",
        "    nbytes = r.randint(10,50)\n",
        "    if self.connected == False:\n",
        "      self.started = True\n",
        "      flags.append(\"SYN\")\n",
        "      if self.ack > 0:\n",
        "        flags.append(\"ACK\")\n",
        "      self.sq_num = self.init_sqnum\n",
        "      packet =  TCPPacket(self.name, \"\",\n",
        "                       self.sq_num, self.ack, flags)\n",
        "\n",
        "    elif self.sq_num == self.init_sqnum + len(self.payload)  + 1:\n",
        "      self.finished = True\n",
        "      flags.append(\"FIN\")\n",
        "      flags.append(\"ACK\")\n",
        "      packet =  TCPPacket(self.name, \"\",\n",
        "                       self.sq_num, self.ack, flags)\n",
        "    else:\n",
        "      packet = TCPPacket(self.name, self.payload[(self.sq_num - self.init_sqnum -1 ):(self.sq_num - self.init_sqnum -1) + nbytes],\n",
        "                       self.sq_num, self.ack, [\"ACK\"])\n",
        "    return packet\n",
        "\n",
        "\n",
        "\n",
        "\n",
        ""
      ]
    },
    {
      "cell_type": "code",
      "source": [
        "msg_q = []\n",
        "s1 = Server(\"s1\")\n",
        "s2 = Server(\"s2\")\n",
        "s1.other = s2\n",
        "s2.other = s1\n",
        "for i in range(2000):\n",
        "  x = r.random()\n",
        "  if x < 0.5:\n",
        "    s1.send_packet(msg_q)\n",
        "    s2.recv_packet()\n",
        "  else:\n",
        "    s2.send_packet(msg_q)\n",
        "    s1.recv_packet()\n",
        "\n",
        "s1.finished, s2.finished"
      ],
      "metadata": {
        "colab": {
          "base_uri": "https://localhost:8080/"
        },
        "id": "4Fvk4jYcVVmQ",
        "outputId": "063619d2-087e-4dcb-8362-5831bd81d477"
      },
      "execution_count": 211,
      "outputs": [
        {
          "output_type": "execute_result",
          "data": {
            "text/plain": [
              "(True, True)"
            ]
          },
          "metadata": {},
          "execution_count": 211
        }
      ]
    },
    {
      "cell_type": "code",
      "source": [
        "s2.bytes_sent, len(s2.payload)"
      ],
      "metadata": {
        "colab": {
          "base_uri": "https://localhost:8080/"
        },
        "id": "pPxciDIBqBcA",
        "outputId": "590b4b6b-38ca-4864-b5ed-bd5cb7f5b9b2"
      },
      "execution_count": 212,
      "outputs": [
        {
          "output_type": "execute_result",
          "data": {
            "text/plain": [
              "(200, 200)"
            ]
          },
          "metadata": {},
          "execution_count": 212
        }
      ]
    },
    {
      "cell_type": "code",
      "source": [],
      "metadata": {
        "id": "SQd1eTbXqFOG"
      },
      "execution_count": null,
      "outputs": []
    }
  ]
}